{
  "nbformat": 4,
  "nbformat_minor": 0,
  "metadata": {
    "colab": {
      "provenance": [],
      "authorship_tag": "ABX9TyMu6oxHnPK9ei6Ib9UHuY8K",
      "include_colab_link": true
    },
    "kernelspec": {
      "name": "python3",
      "display_name": "Python 3"
    },
    "language_info": {
      "name": "python"
    }
  },
  "cells": [
    {
      "cell_type": "markdown",
      "metadata": {
        "id": "view-in-github",
        "colab_type": "text"
      },
      "source": [
        "<a href=\"https://colab.research.google.com/github/Murari0323/numpy_tekworks/blob/main/numpy.ipynb\" target=\"_parent\"><img src=\"https://colab.research.google.com/assets/colab-badge.svg\" alt=\"Open In Colab\"/></a>"
      ]
    },
    {
      "cell_type": "code",
      "execution_count": 1,
      "metadata": {
        "colab": {
          "base_uri": "https://localhost:8080/"
        },
        "id": "SXe3zUAnB1OC",
        "outputId": "8e0b70b3-456b-4e5b-d7c5-34c6dd27a713"
      },
      "outputs": [
        {
          "output_type": "stream",
          "name": "stdout",
          "text": [
            "4\n"
          ]
        }
      ],
      "source": [
        "print(2+2)"
      ]
    },
    {
      "cell_type": "code",
      "source": [
        "import numpy as np\n",
        "arr=np.array([1,2,3,4])\n",
        "print(arr)\n",
        "arr_2d=np.array([[1,2,3],[4,5,6]])\n",
        "print(arr_2d)\n",
        "arr_3d=np.array([[[6,7,8],[23,4,5]],[[22,45,6],[21,7,8]]])\n",
        "print(arr_3d)\n",
        "print(arr_3d.ndim)\n",
        "print(arr_2d.ndim)\n",
        "print(arr.ndim)\n",
        "print(arr_2d.shape)"
      ],
      "metadata": {
        "colab": {
          "base_uri": "https://localhost:8080/"
        },
        "id": "3O_-ovjbCQnx",
        "outputId": "a927568d-edda-44c2-a6a0-179cd91910a8"
      },
      "execution_count": 18,
      "outputs": [
        {
          "output_type": "stream",
          "name": "stdout",
          "text": [
            "[1 2 3 4]\n",
            "[[1 2 3]\n",
            " [4 5 6]]\n",
            "[[[ 6  7  8]\n",
            "  [23  4  5]]\n",
            "\n",
            " [[22 45  6]\n",
            "  [21  7  8]]]\n",
            "3\n",
            "2\n",
            "1\n",
            "(2, 3)\n"
          ]
        }
      ]
    },
    {
      "cell_type": "code",
      "source": [
        "import numpy as np\n",
        "zeros=np.zeros((2,3))\n",
        "print(zeros)\n",
        "ones=np.ones((3,3))\n",
        "print(ones)\n",
        "random=np.random.random((2,2))\n",
        "print(random)\n",
        "eyes=np.eye((3))\n",
        "print(eyes)\n",
        "rangee=np.arange(1,10,3)\n",
        "print(rangee)"
      ],
      "metadata": {
        "colab": {
          "base_uri": "https://localhost:8080/"
        },
        "id": "LtWiSfZuFfpT",
        "outputId": "c53492a5-68d7-4930-827c-49f823218a44"
      },
      "execution_count": 17,
      "outputs": [
        {
          "output_type": "stream",
          "name": "stdout",
          "text": [
            "[[0. 0. 0.]\n",
            " [0. 0. 0.]]\n",
            "[[1. 1. 1.]\n",
            " [1. 1. 1.]\n",
            " [1. 1. 1.]]\n",
            "[[0.06137629 0.50301375]\n",
            " [0.00266941 0.94596504]]\n",
            "[[1. 0. 0.]\n",
            " [0. 1. 0.]\n",
            " [0. 0. 1.]]\n",
            "[1 4 7]\n"
          ]
        }
      ]
    },
    {
      "cell_type": "code",
      "source": [
        "import numpy as np\n",
        "\n",
        "arr1=np.array([[4,6,7],[3,7,8]])\n",
        "print(arr1.size)\n",
        "print(arr1.dtype)\n",
        "print(arr1.shape)\n",
        "print(arr1.ndim)"
      ],
      "metadata": {
        "colab": {
          "base_uri": "https://localhost:8080/"
        },
        "id": "rseXaV-HHFh6",
        "outputId": "fe44f032-afb2-4714-f89e-1655f813d008"
      },
      "execution_count": 21,
      "outputs": [
        {
          "output_type": "stream",
          "name": "stdout",
          "text": [
            "6\n",
            "int64\n",
            "(2, 3)\n",
            "2\n"
          ]
        }
      ]
    },
    {
      "cell_type": "code",
      "source": [
        "import numpy as np\n",
        "temp_data=np.array([[22,25,20],[24,26,23]])\n",
        "print(temp_data.shape)\n",
        "print(temp_data.size)\n",
        "print(temp_data.ndim)\n",
        "print(temp_data.dtype)\n",
        "temp_data = np.append(temp_data, [[21, 23, 22]], axis=0)\n",
        "updated_temp_data=temp_data\n",
        "print(updated_temp_data)\n",
        "sensor_error_flags=np.zeros((2,3))\n",
        "greenhouse_identity=np.eye(3)\n",
        "print(sensor_error_flags)\n",
        "print(greenhouse_identity)"
      ],
      "metadata": {
        "colab": {
          "base_uri": "https://localhost:8080/"
        },
        "id": "ss1eOv4KJhoN",
        "outputId": "6c9e9442-e971-475b-ba09-350972cd9055"
      },
      "execution_count": 27,
      "outputs": [
        {
          "output_type": "stream",
          "name": "stdout",
          "text": [
            "(2, 3)\n",
            "6\n",
            "2\n",
            "int64\n",
            "[[22 25 20]\n",
            " [24 26 23]\n",
            " [21 23 22]]\n",
            "[[0. 0. 0.]\n",
            " [0. 0. 0.]]\n",
            "[[1. 0. 0.]\n",
            " [0. 1. 0.]\n",
            " [0. 0. 1.]]\n"
          ]
        }
      ]
    },
    {
      "cell_type": "code",
      "source": [
        "import numpy as np\n",
        "shipments=np.array([[50,60,55,70,65,80,90],[40,45,50,60,55,70,75]])\n",
        "print(shipments)\n",
        "print(shipments[0,2])\n",
        "print(shipments[1,6])\n",
        "print(shipments[:,0:5])\n",
        "print(shipments[:,5:])\n",
        "print(shipments[0,2:6])\n",
        "shipments[0,5]=100\n",
        "print(shipments)"
      ],
      "metadata": {
        "colab": {
          "base_uri": "https://localhost:8080/"
        },
        "id": "Pz9gzrn6I_ea",
        "outputId": "c0231320-20fd-4402-e3b3-1ea7c9d2d140"
      },
      "execution_count": 42,
      "outputs": [
        {
          "output_type": "stream",
          "name": "stdout",
          "text": [
            "[[50 60 55 70 65 80 90]\n",
            " [40 45 50 60 55 70 75]]\n",
            "55\n",
            "75\n",
            "[[50 60 55 70 65]\n",
            " [40 45 50 60 55]]\n",
            "[[80 90]\n",
            " [70 75]]\n",
            "[55 70 65 80]\n",
            "[[ 50  60  55  70  65 100  90]\n",
            " [ 40  45  50  60  55  70  75]]\n"
          ]
        }
      ]
    },
    {
      "cell_type": "code",
      "source": [
        "import numpy as np\n",
        "a=np.array([1,2,3])\n",
        "b=np.array([4,5,6])\n",
        "c=a+b\n",
        "print(c)\n",
        "print(a*b)\n",
        "print(a*2)\n",
        "print(np.dot(a,b))\n",
        "d=np.array([[1,6,7],[4,9,8]])\n",
        "e=np.array([[23,4,5],[6,80,4],[2,5,7]])\n",
        "print(np.dot(d,e))"
      ],
      "metadata": {
        "colab": {
          "base_uri": "https://localhost:8080/"
        },
        "id": "Ut9rmAdrWqlX",
        "outputId": "d0b7d358-0fcc-44aa-cf9c-046a7f83ab87"
      },
      "execution_count": 49,
      "outputs": [
        {
          "output_type": "stream",
          "name": "stdout",
          "text": [
            "[5 7 9]\n",
            "[ 4 10 18]\n",
            "[2 4 6]\n",
            "32\n",
            "[[ 73 519  78]\n",
            " [162 776 112]]\n"
          ]
        }
      ]
    },
    {
      "cell_type": "code",
      "source": [
        "a=np.array([1,2,3])\n",
        "b=2\n",
        "print(a+b)\n",
        "print(np.exp(a))\n",
        "print(np.sqrt(a))\n",
        "print(np.log(a))"
      ],
      "metadata": {
        "colab": {
          "base_uri": "https://localhost:8080/"
        },
        "id": "q1souL44Wqh8",
        "outputId": "baa32cd1-6fa6-4400-fbed-da0644cd929f"
      },
      "execution_count": 51,
      "outputs": [
        {
          "output_type": "stream",
          "name": "stdout",
          "text": [
            "[3 4 5]\n",
            "[ 2.71828183  7.3890561  20.08553692]\n",
            "[1.         1.41421356 1.73205081]\n",
            "[0.         0.69314718 1.09861229]\n"
          ]
        }
      ]
    },
    {
      "cell_type": "code",
      "source": [
        "import numpy as np\n",
        "\n",
        "# ---------------------------\n",
        "# 1️⃣ Arithmetic ufuncs\n",
        "# ---------------------------\n",
        "x = np.array([1, 2, 3])\n",
        "y = np.array([4, 5, 6])\n",
        "\n",
        "print(\"=== Arithmetic ufuncs ===\")\n",
        "print(\"Add:\", np.add(x, y))\n",
        "print(\"Subtract:\", np.subtract(x, y))\n",
        "print(\"Multiply:\", np.multiply(x, y))\n",
        "print(\"Divide:\", np.divide(y, x))\n",
        "print(\"Power:\", np.power(x, 2))\n",
        "print(\"Modulus:\", np.mod(y, 4))\n",
        "print()\n",
        "\n",
        "# ---------------------------\n",
        "# 2️⃣ Exponential & Logarithmic ufuncs\n",
        "# ---------------------------\n",
        "print(\"=== Exponential & Logarithmic ufuncs ===\")\n",
        "a = np.array([1, 2, 3])\n",
        "print(\"exp:\", np.exp(a))\n",
        "print(\"log:\", np.log(a))\n",
        "print(\"log10:\", np.log10(a))\n",
        "print(\"log2:\", np.log2(a))\n",
        "print(\"expm1:\", np.expm1(a))  # exp(x) - 1\n",
        "print()\n",
        "\n",
        "# ---------------------------\n",
        "# 3️⃣ Trigonometric ufuncs\n",
        "# ---------------------------\n",
        "print(\"=== Trigonometric ufuncs ===\")\n",
        "angles = np.array([0, np.pi/4, np.pi/2])\n",
        "print(\"sin:\", np.sin(angles))\n",
        "print(\"cos:\", np.cos(angles))\n",
        "print(\"tan:\", np.tan(angles))\n",
        "print(\"arcsin(1):\", np.arcsin(1))\n",
        "print(\"degrees(pi):\", np.degrees(np.pi))\n",
        "print(\"radians(180):\", np.radians(180))\n",
        "print()\n",
        "\n",
        "# ---------------------------\n",
        "# 4️⃣ Rounding ufuncs\n",
        "# ---------------------------\n",
        "print(\"=== Rounding ufuncs ===\")\n",
        "nums = np.array([1.2, 2.5, 3.7, -1.3])\n",
        "print(\"Round:\", np.round(nums))\n",
        "print(\"Floor:\", np.floor(nums))\n",
        "print(\"Ceil:\", np.ceil(nums))\n",
        "print(\"Trunc:\", np.trunc(nums))\n",
        "print()\n",
        "\n",
        "# ---------------------------\n",
        "# 5️⃣ Statistical ufuncs\n",
        "# ---------------------------\n",
        "print(\"=== Statistical ufuncs ===\")\n",
        "data = np.array([2, 5, 7, 10])\n",
        "print(\"Min:\", np.min(data))\n",
        "print(\"Max:\", np.max(data))\n",
        "print(\"Mean:\", np.mean(data))\n",
        "print(\"Std Dev:\", np.std(data))\n",
        "print(\"Variance:\", np.var(data))\n",
        "print(\"Sum:\", np.sum(data))\n",
        "print(\"Product:\", np.prod(data))\n",
        "print()\n",
        "\n",
        "# ---------------------------\n",
        "# 6️⃣ Logical ufuncs\n",
        "# ---------------------------\n",
        "print(\"=== Logical ufuncs ===\")\n",
        "p = np.array([True, False, True])\n",
        "q = np.array([True, True, False])\n",
        "print(\"Logical AND:\", np.logical_and(p, q))\n",
        "print(\"Logical OR:\", np.logical_or(p, q))\n",
        "print(\"Logical NOT (p):\", np.logical_not(p))\n",
        "print(\"Logical XOR:\", np.logical_xor(p, q))\n",
        "print()\n",
        "\n",
        "# ---------------------------\n",
        "# 7️⃣ Comparison ufuncs\n",
        "# ---------------------------\n",
        "print(\"=== Comparison ufuncs ===\")\n",
        "m = np.array([10, 20, 30])\n",
        "n = np.array([15, 20, 25])\n",
        "print(\"Greater:\", np.greater(m, n))\n",
        "print(\"Less:\", np.less(m, n))\n",
        "print(\"Equal:\", np.equal(m, n))\n",
        "print(\"Not Equal:\", np.not_equal(m, n))\n",
        "print(\"Greater Equal:\", np.greater_equal(m, n))\n",
        "print(\"Less Equal:\", np.less_equal(m, n))\n",
        "print()\n",
        "\n",
        "# ---------------------------\n",
        "# 8️⃣ Bitwise ufuncs\n",
        "# ---------------------------\n",
        "print(\"=== Bitwise ufuncs ===\")\n",
        "r = np.array([6], dtype=np.int32)  # binary: 110\n",
        "s = np.array([3], dtype=np.int32)  # binary: 011\n",
        "print(\"Bitwise AND:\", np.bitwise_and(r, s))  # 110 & 011 = 010 (2)\n",
        "print(\"Bitwise OR:\", np.bitwise_or(r, s))    # 110 | 011 = 111 (7)\n",
        "print(\"Bitwise XOR:\", np.bitwise_xor(r, s))  # 110 ^ 011 = 101 (5)\n",
        "print(\"Bitwise NOT (~6):\", np.invert(r))     # ~6 = -7 (two's complement)\n"
      ],
      "metadata": {
        "colab": {
          "base_uri": "https://localhost:8080/"
        },
        "id": "JyMOszZwbA8r",
        "outputId": "8323017d-48d4-45ad-8f6b-0374e00140dd"
      },
      "execution_count": 52,
      "outputs": [
        {
          "output_type": "stream",
          "name": "stdout",
          "text": [
            "=== Arithmetic ufuncs ===\n",
            "Add: [5 7 9]\n",
            "Subtract: [-3 -3 -3]\n",
            "Multiply: [ 4 10 18]\n",
            "Divide: [4.  2.5 2. ]\n",
            "Power: [1 4 9]\n",
            "Modulus: [0 1 2]\n",
            "\n",
            "=== Exponential & Logarithmic ufuncs ===\n",
            "exp: [ 2.71828183  7.3890561  20.08553692]\n",
            "log: [0.         0.69314718 1.09861229]\n",
            "log10: [0.         0.30103    0.47712125]\n",
            "log2: [0.        1.        1.5849625]\n",
            "expm1: [ 1.71828183  6.3890561  19.08553692]\n",
            "\n",
            "=== Trigonometric ufuncs ===\n",
            "sin: [0.         0.70710678 1.        ]\n",
            "cos: [1.00000000e+00 7.07106781e-01 6.12323400e-17]\n",
            "tan: [0.00000000e+00 1.00000000e+00 1.63312394e+16]\n",
            "arcsin(1): 1.5707963267948966\n",
            "degrees(pi): 180.0\n",
            "radians(180): 3.141592653589793\n",
            "\n",
            "=== Rounding ufuncs ===\n",
            "Round: [ 1.  2.  4. -1.]\n",
            "Floor: [ 1.  2.  3. -2.]\n",
            "Ceil: [ 2.  3.  4. -1.]\n",
            "Trunc: [ 1.  2.  3. -1.]\n",
            "\n",
            "=== Statistical ufuncs ===\n",
            "Min: 2\n",
            "Max: 10\n",
            "Mean: 6.0\n",
            "Std Dev: 2.9154759474226504\n",
            "Variance: 8.5\n",
            "Sum: 24\n",
            "Product: 700\n",
            "\n",
            "=== Logical ufuncs ===\n",
            "Logical AND: [ True False False]\n",
            "Logical OR: [ True  True  True]\n",
            "Logical NOT (p): [False  True False]\n",
            "Logical XOR: [False  True  True]\n",
            "\n",
            "=== Comparison ufuncs ===\n",
            "Greater: [False False  True]\n",
            "Less: [ True False False]\n",
            "Equal: [False  True False]\n",
            "Not Equal: [ True False  True]\n",
            "Greater Equal: [False  True  True]\n",
            "Less Equal: [ True  True False]\n",
            "\n",
            "=== Bitwise ufuncs ===\n",
            "Bitwise AND: [2]\n",
            "Bitwise OR: [7]\n",
            "Bitwise XOR: [5]\n",
            "Bitwise NOT (~6): [-7]\n"
          ]
        }
      ]
    },
    {
      "cell_type": "code",
      "source": [
        "import numpy as np\n",
        "\n",
        "# ---------------------------\n",
        "# 1️⃣ Create 2D arrays for each farm (4 panels × 3 hours)\n",
        "# ---------------------------\n",
        "farmA = np.array([[10, 12, 11],\n",
        "                  [9, 11, 10],\n",
        "                  [12, 13, 14],\n",
        "                  [8, 7, 9]])\n",
        "\n",
        "farmB = np.array([[20, 19, 21],\n",
        "                  [18, 20, 19],\n",
        "                  [22, 23, 21],\n",
        "                  [17, 18, 16]])\n",
        "\n",
        "farmC = np.array([[15, 16, 14],\n",
        "                  [14, 13, 15],\n",
        "                  [16, 17, 18],\n",
        "                  [12, 11, 13]])\n",
        "\n",
        "# Stack into 3D array (3 farms × 4 panels × 3 hours) as float\n",
        "production_all = np.stack([farmA, farmB, farmC], axis=0).astype(float)\n",
        "print(\"production_all array:\\n\", production_all)\n",
        "print(\"-\"*30)\n",
        "\n",
        "# ---------------------------\n",
        "# 2️⃣ Array attributes\n",
        "# ---------------------------\n",
        "print(\"Array attributes:\")\n",
        "print(\"Shape:\", production_all.shape)   # (3,4,3)\n",
        "print(\"Size:\", production_all.size)     # 36 elements\n",
        "print(\"Dtype:\", production_all.dtype)   # float64\n",
        "print(\"Dimensions:\", production_all.ndim)\n",
        "print(\"-\"*30)\n",
        "\n",
        "# ---------------------------\n",
        "# 3️⃣ Per-farm aggregation\n",
        "# ---------------------------\n",
        "total_per_farm = np.sum(production_all, axis=(1,2))\n",
        "mean_per_farm  = np.mean(production_all, axis=(1,2))\n",
        "std_per_farm   = np.std(production_all, axis=(1,2))\n",
        "var_per_farm   = np.var(production_all, axis=(1,2))\n",
        "\n",
        "print(\"Total per farm:\", total_per_farm)\n",
        "print(\"Mean per farm:\", mean_per_farm)\n",
        "print(\"Std per farm:\", std_per_farm)\n",
        "print(\"Variance per farm:\", var_per_farm)\n",
        "print(\"-\"*30)\n",
        "\n",
        "# ---------------------------\n",
        "# 4️⃣ Per-hour weighted estimate (matrix multiplication)\n",
        "# ---------------------------\n",
        "hour_weights = np.array([0.5, 1.0, 0.75])\n",
        "weighted_per_panel = np.dot(production_all, hour_weights)\n",
        "print(\"Weighted per panel (per farm):\\n\", weighted_per_panel)\n",
        "print(\"-\"*30)\n",
        "\n",
        "# ---------------------------\n",
        "# 5️⃣ Broadcasting adjustments (offset +0.5 for Farm B)\n",
        "# ---------------------------\n",
        "production_all[1,:,:] += 0.5\n",
        "print(\"production_all after Farm B offset:\\n\", production_all)\n",
        "print(\"-\"*30)\n",
        "\n",
        "# ---------------------------\n",
        "# 6️⃣ Z-score normalization per farm\n",
        "# ---------------------------\n",
        "normalized_data = (production_all - mean_per_farm[:, np.newaxis, np.newaxis]) / std_per_farm[:, np.newaxis, np.newaxis]\n",
        "print(\"Z-score normalized data:\\n\", normalized_data)\n",
        "print(\"-\"*30)\n",
        "\n",
        "# ---------------------------\n",
        "# 7️⃣ Apply element-wise ufuncs\n",
        "# ---------------------------\n",
        "# Exponential family\n",
        "exp_data = np.exp(normalized_data)\n",
        "expm1_data = np.expm1(normalized_data)\n",
        "log_data = np.log(production_all + 1)\n",
        "log10_data = np.log10(production_all + 1)\n",
        "log2_data = np.log2(production_all + 1)\n",
        "\n",
        "# Trigonometric ufuncs\n",
        "sin_data = np.sin(normalized_data)\n",
        "cos_data = np.cos(normalized_data)\n",
        "tan_data = np.tan(normalized_data)\n",
        "arcsin_data = np.arcsin(np.clip(normalized_data/np.max(np.abs(normalized_data)), -1, 1))\n",
        "arccos_data = np.arccos(np.clip(normalized_data/np.max(np.abs(normalized_data)), -1, 1))\n",
        "arctan_data = np.arctan(normalized_data)\n",
        "deg_data = np.degrees(normalized_data)\n",
        "rad_data = np.radians(normalized_data)\n",
        "\n",
        "# Rounding\n",
        "round_data = np.round(normalized_data)\n",
        "floor_data = np.floor(normalized_data)\n",
        "ceil_data = np.ceil(normalized_data)\n",
        "trunc_data = np.trunc(normalized_data)\n",
        "\n",
        "# Comparison & logical ufuncs\n",
        "high_output = production_all > 20\n",
        "even_hours_mask = (np.arange(3) % 2 == 0)  # columns 0,2\n",
        "even_hours_mask_broadcast = even_hours_mask[np.newaxis, np.newaxis, :]\n",
        "combined_and = np.logical_and(high_output, even_hours_mask_broadcast)\n",
        "combined_or  = np.logical_or(high_output, even_hours_mask_broadcast)\n",
        "combined_not = np.logical_not(high_output)\n",
        "combined_xor = np.logical_xor(high_output, even_hours_mask_broadcast)\n",
        "\n",
        "greater_equal_mask = np.greater_equal(production_all, 15)\n",
        "less_mask = np.less(production_all, 12)\n",
        "\n",
        "# Bitwise ufuncs\n",
        "alerts = np.array([[1,0,1],\n",
        "                   [0,0,1],\n",
        "                   [1,1,0],\n",
        "                   [0,1,0]])\n",
        "alerts_3d = np.stack([alerts]*3, axis=0)\n",
        "bitwise_and = np.bitwise_and(alerts_3d, 1)\n",
        "bitwise_or  = np.bitwise_or(alerts_3d, 0)\n",
        "bitwise_invert = np.bitwise_invert(alerts_3d)\n",
        "\n",
        "# Arithmetic ufuncs\n",
        "add_data = np.add(normalized_data, 2)\n",
        "sub_data = np.subtract(normalized_data, 1)\n",
        "mul_data = np.multiply(normalized_data, 3)\n",
        "div_data = np.divide(normalized_data, 2)\n",
        "power_data = np.power(normalized_data, 2)\n",
        "mod_data = np.mod(production_all, 5)\n",
        "\n",
        "# Aggregations\n",
        "sum_exp = np.sum(exp_data)\n",
        "mean_sin = np.mean(sin_data)\n",
        "\n",
        "print(\"Sum of exp(normalized_data):\", sum_exp)\n",
        "print(\"Mean of sin(normalized_data):\", mean_sin)\n",
        "print(\"-\"*30)\n",
        "\n",
        "# ---------------------------\n",
        "# 8️⃣ Broadcast-based summary: per-panel totals & maintenance\n",
        "# ---------------------------\n",
        "panel_totals_per_farm = np.sum(production_all, axis=2)\n",
        "needs_maintenance = np.any(panel_totals_per_farm < 40, axis=1)\n",
        "print(\"Panel totals per farm:\\n\", panel_totals_per_farm)\n",
        "print(\"Needs maintenance per farm:\", needs_maintenance)\n",
        "print(\"-\"*30)\n",
        "\n",
        "# ---------------------------\n",
        "# 9️⃣ Final KPIs\n",
        "# ---------------------------\n",
        "overall_total = np.sum(production_all)\n",
        "peak_hour_value = np.max(production_all)\n",
        "peak_idx_flat = np.argmax(production_all)\n",
        "peak_farm, peak_panel, peak_hour = np.unravel_index(peak_idx_flat, production_all.shape)\n",
        "average_per_panel = np.mean(production_all, axis=2)\n",
        "\n",
        "print(\"Overall total energy:\", overall_total)\n",
        "print(f\"Peak hour value: {peak_hour_value} produced by Farm {peak_farm}, Panel {peak_panel}, Hour {peak_hour}\")\n",
        "print(\"Average per panel across hours:\\n\", average_per_panel)\n"
      ],
      "metadata": {
        "colab": {
          "base_uri": "https://localhost:8080/"
        },
        "id": "3SA7Wr-oxPQo",
        "outputId": "8c503c19-732c-4371-dfb6-e48996e9e7c3"
      },
      "execution_count": 1,
      "outputs": [
        {
          "output_type": "stream",
          "name": "stdout",
          "text": [
            "production_all array:\n",
            " [[[10. 12. 11.]\n",
            "  [ 9. 11. 10.]\n",
            "  [12. 13. 14.]\n",
            "  [ 8.  7.  9.]]\n",
            "\n",
            " [[20. 19. 21.]\n",
            "  [18. 20. 19.]\n",
            "  [22. 23. 21.]\n",
            "  [17. 18. 16.]]\n",
            "\n",
            " [[15. 16. 14.]\n",
            "  [14. 13. 15.]\n",
            "  [16. 17. 18.]\n",
            "  [12. 11. 13.]]]\n",
            "------------------------------\n",
            "Array attributes:\n",
            "Shape: (3, 4, 3)\n",
            "Size: 36\n",
            "Dtype: float64\n",
            "Dimensions: 3\n",
            "------------------------------\n",
            "Total per farm: [126. 234. 174.]\n",
            "Mean per farm: [10.5 19.5 14.5]\n",
            "Std per farm: [1.97905701 1.97905701 1.97905701]\n",
            "Variance per farm: [3.91666667 3.91666667 3.91666667]\n",
            "------------------------------\n",
            "Weighted per panel (per farm):\n",
            " [[25.25 23.   29.5  17.75]\n",
            " [44.75 43.25 49.75 38.5 ]\n",
            " [34.   31.25 38.5  26.75]]\n",
            "------------------------------\n",
            "production_all after Farm B offset:\n",
            " [[[10.  12.  11. ]\n",
            "  [ 9.  11.  10. ]\n",
            "  [12.  13.  14. ]\n",
            "  [ 8.   7.   9. ]]\n",
            "\n",
            " [[20.5 19.5 21.5]\n",
            "  [18.5 20.5 19.5]\n",
            "  [22.5 23.5 21.5]\n",
            "  [17.5 18.5 16.5]]\n",
            "\n",
            " [[15.  16.  14. ]\n",
            "  [14.  13.  15. ]\n",
            "  [16.  17.  18. ]\n",
            "  [12.  11.  13. ]]]\n",
            "------------------------------\n",
            "Z-score normalized data:\n",
            " [[[-0.25264558  0.75793673  0.25264558]\n",
            "  [-0.75793673  0.25264558 -0.25264558]\n",
            "  [ 0.75793673  1.26322788  1.76851903]\n",
            "  [-1.26322788 -1.76851903 -0.75793673]]\n",
            "\n",
            " [[ 0.50529115  0.          1.01058231]\n",
            "  [-0.50529115  0.50529115  0.        ]\n",
            "  [ 1.51587346  2.02116461  1.01058231]\n",
            "  [-1.01058231 -0.50529115 -1.51587346]]\n",
            "\n",
            " [[ 0.25264558  0.75793673 -0.25264558]\n",
            "  [-0.25264558 -0.75793673  0.25264558]\n",
            "  [ 0.75793673  1.26322788  1.76851903]\n",
            "  [-1.26322788 -1.76851903 -0.75793673]]]\n",
            "------------------------------\n",
            "Sum of exp(normalized_data): 63.071430863729034\n",
            "Mean of sin(normalized_data): 0.04853967380227196\n",
            "------------------------------\n",
            "Panel totals per farm:\n",
            " [[33.  30.  39.  24. ]\n",
            " [61.5 58.5 67.5 52.5]\n",
            " [45.  42.  51.  36. ]]\n",
            "Needs maintenance per farm: [ True False  True]\n",
            "------------------------------\n",
            "Overall total energy: 540.0\n",
            "Peak hour value: 23.5 produced by Farm 1, Panel 2, Hour 1\n",
            "Average per panel across hours:\n",
            " [[11.  10.  13.   8. ]\n",
            " [20.5 19.5 22.5 17.5]\n",
            " [15.  14.  17.  12. ]]\n"
          ]
        }
      ]
    },
    {
      "cell_type": "code",
      "source": [
        "a=np.array([1,2,3,4,5,6])\n",
        "reshape=a.reshape((2,3))\n",
        "print(reshape)"
      ],
      "metadata": {
        "colab": {
          "base_uri": "https://localhost:8080/"
        },
        "id": "9jK12a7S13WC",
        "outputId": "bfbb8128-3309-4fb5-c5e2-b97bc9836a77"
      },
      "execution_count": 2,
      "outputs": [
        {
          "output_type": "stream",
          "name": "stdout",
          "text": [
            "[[1 2 3]\n",
            " [4 5 6]]\n"
          ]
        }
      ]
    },
    {
      "cell_type": "code",
      "source": [
        "import numpy as np\n",
        "\n",
        "a = np.array([1,2,3])\n",
        "b = np.array([4,5,6])\n",
        "\n",
        "# Stack along a new axis (0 → row, 1 → column)\n",
        "c0 = np.stack([a,b], axis=0)  # shape (2,3)\n",
        "c1 = np.stack([a,b], axis=1)  # shape (3,2)\n",
        "\n",
        "print(\"axis=0:\\n\", c0)\n",
        "print(\"axis=1:\\n\", c1)\n"
      ],
      "metadata": {
        "colab": {
          "base_uri": "https://localhost:8080/"
        },
        "id": "pMF97fw_4Lh9",
        "outputId": "c3c97a1c-9ff5-481a-9d68-17a199463277"
      },
      "execution_count": 3,
      "outputs": [
        {
          "output_type": "stream",
          "name": "stdout",
          "text": [
            "axis=0:\n",
            " [[1 2 3]\n",
            " [4 5 6]]\n",
            "axis=1:\n",
            " [[1 4]\n",
            " [2 5]\n",
            " [3 6]]\n"
          ]
        }
      ]
    },
    {
      "cell_type": "code",
      "source": [
        "a = np.array([[1],[2]])\n",
        "b = np.array([[3],[4]])\n",
        "h = np.hstack([a,b])\n",
        "print(h)\n",
        "v = np.vstack([a,b])\n",
        "print(v)\n",
        "d = np.dstack([a,b])\n",
        "print(d)\n"
      ],
      "metadata": {
        "colab": {
          "base_uri": "https://localhost:8080/"
        },
        "id": "o6DYYAoO4hqS",
        "outputId": "6e368965-3ce8-4bb0-8a91-0ae720f5d778"
      },
      "execution_count": 5,
      "outputs": [
        {
          "output_type": "stream",
          "name": "stdout",
          "text": [
            "[[1 3]\n",
            " [2 4]]\n",
            "[[1]\n",
            " [2]\n",
            " [3]\n",
            " [4]]\n",
            "[[[1 3]]\n",
            "\n",
            " [[2 4]]]\n"
          ]
        }
      ]
    },
    {
      "cell_type": "code",
      "source": [
        "arr = np.array([[1,2,3,4],\n",
        "                [5,6,7,8]])\n",
        "\n",
        "# Split into 2 arrays along columns (axis=1)\n",
        "parts = np.split(arr, 2, axis=1)\n",
        "print(parts[0])\n",
        "print(parts[1])\n"
      ],
      "metadata": {
        "colab": {
          "base_uri": "https://localhost:8080/"
        },
        "id": "9Pvxpxua5Eju",
        "outputId": "eaabb9ad-b1e3-4835-fefd-a06646a47acc"
      },
      "execution_count": 6,
      "outputs": [
        {
          "output_type": "stream",
          "name": "stdout",
          "text": [
            "[[1 2]\n",
            " [5 6]]\n",
            "[[3 4]\n",
            " [7 8]]\n"
          ]
        }
      ]
    },
    {
      "cell_type": "code",
      "source": [
        "arr = np.array([1,2,3,4,5])\n",
        "parts = np.array_split(arr, 3)\n",
        "print(parts)  # [array([1,2]), array([3,4]), array([5])]\n"
      ],
      "metadata": {
        "colab": {
          "base_uri": "https://localhost:8080/"
        },
        "id": "Z7yosvxD5Za8",
        "outputId": "8308d8e6-8a7d-4f27-d6cf-be979d10921e"
      },
      "execution_count": 10,
      "outputs": [
        {
          "output_type": "stream",
          "name": "stdout",
          "text": [
            "[array([1, 2]), array([3, 4]), array([5])]\n"
          ]
        }
      ]
    },
    {
      "cell_type": "code",
      "source": [
        "a=np.array([1,2,3,4,5])\n",
        "print(arr[arr>2])\n",
        "indices=[1,3]\n",
        "print(arr[indices])"
      ],
      "metadata": {
        "colab": {
          "base_uri": "https://localhost:8080/"
        },
        "id": "sf7y91qN5d12",
        "outputId": "29decd46-25af-4caf-d28f-d99897d99d5a"
      },
      "execution_count": 9,
      "outputs": [
        {
          "output_type": "stream",
          "name": "stdout",
          "text": [
            "[3 4 5]\n",
            "[2 4]\n"
          ]
        }
      ]
    },
    {
      "cell_type": "code",
      "source": [
        "a=np.array([10,20,30])\n",
        "print(a)\n",
        "view=a.view()\n",
        "view[0]=40\n",
        "print(a)\n"
      ],
      "metadata": {
        "colab": {
          "base_uri": "https://localhost:8080/"
        },
        "id": "qPINed2e6TLD",
        "outputId": "5baece0a-bc2e-46c7-eadd-bacaf97c18fc"
      },
      "execution_count": 12,
      "outputs": [
        {
          "output_type": "stream",
          "name": "stdout",
          "text": [
            "[10 20 30]\n",
            "[40 20 30]\n"
          ]
        }
      ]
    },
    {
      "cell_type": "code",
      "source": [
        "a=np.array([10,20,30])\n",
        "print(a)\n",
        "copy=a.copy()\n",
        "copy[0]=40\n",
        "print(a)"
      ],
      "metadata": {
        "colab": {
          "base_uri": "https://localhost:8080/"
        },
        "id": "Zj4KwBB46kX1",
        "outputId": "6a8ff6d1-30c6-4d41-ab87-50a67e4d71ca"
      },
      "execution_count": 13,
      "outputs": [
        {
          "output_type": "stream",
          "name": "stdout",
          "text": [
            "[10 20 30]\n",
            "[10 20 30]\n"
          ]
        }
      ]
    },
    {
      "cell_type": "code",
      "source": [
        "a=np.array([1,2,3])\n",
        "np.save('array.npy',a)\n",
        "loaded_arr=np.load('array.npy')\n",
        "print(loaded_arr)"
      ],
      "metadata": {
        "colab": {
          "base_uri": "https://localhost:8080/"
        },
        "id": "cnYBaaTV7TBB",
        "outputId": "5693bbd7-9b7a-43ae-86ee-54fda8a0431b"
      },
      "execution_count": 14,
      "outputs": [
        {
          "output_type": "stream",
          "name": "stdout",
          "text": [
            "[1 2 3]\n"
          ]
        }
      ]
    },
    {
      "cell_type": "markdown",
      "source": [
        "TasksArray Creation\n",
        "Create a 1D array of numbers from 10 to 50.\n",
        "Create a 3x3 array of random numbers between 0 and 1.\n",
        "Array Attributes\n",
        "Find the shape, size, and data type of the array you created in the previous task.\n",
        "Basic Operations\n",
        "Add 5 to every element of a 1D array.\n",
        "Multiply two 2D arrays element-wise.\n",
        "Indexing and Slicing\n",
        "Create a 5x5 array of integers from 1 to 25. Extract:\n",
        "The first row.\n",
        "The last column.\n",
        "A subarray of the first three rows and first two columns.\n",
        "Aggregation\n",
        "Create a 10-element array of random integers between 10 and 100. Find:\n",
        "The maximum value.\n",
        "The minimum value.\n",
        "The mean and standard deviation.\n",
        "Reshaping\n",
        "Convert a 1D array of numbers from 1 to 12 into a 3x4 matrix.\n",
        "Broadcasting\n",
        "Create a 3x3 matrix of ones. Add a 1D array [1, 2, 3] to each row.\n",
        "Filtering\n",
        "Create a 1D array of random integers between 1 and 50. Extract all elements that are divisible by 5.\n",
        "Matrix Multiplication\n",
        "Create two 2x2 matrices and perform matrix multiplication.\n",
        "Advanced Indexing\n",
        "Given a 4x4 array, use fancy indexing to extract the diagonal elements."
      ],
      "metadata": {
        "id": "7ASkpYW78VwA"
      }
    },
    {
      "cell_type": "code",
      "source": [
        "import numpy as np\n",
        "\n",
        "# ---------------------------\n",
        "# 1️⃣ Array Creation\n",
        "# ---------------------------\n",
        "# 1D array from 10 to 50\n",
        "arr1d = np.arange(10, 51)\n",
        "print(\"1D array:\", arr1d)\n",
        "\n",
        "# 3x3 array of random numbers between 0 and 1\n",
        "arr3x3 = np.random.rand(3,3)\n",
        "print(\"3x3 random array:\\n\", arr3x3)\n",
        "\n",
        "# ---------------------------\n",
        "# 2️⃣ Array Attributes\n",
        "# ---------------------------\n",
        "print(\"Shape:\", arr3x3.shape)\n",
        "print(\"Size:\", arr3x3.size)\n",
        "print(\"Data type:\", arr3x3.dtype)\n",
        "\n",
        "# ---------------------------\n",
        "# 3️⃣ Basic Operations\n",
        "# ---------------------------\n",
        "# Add 5 to every element of 1D array\n",
        "arr1d_plus5 = arr1d + 5\n",
        "print(\"1D array +5:\", arr1d_plus5)\n",
        "\n",
        "# Multiply two 2D arrays element-wise\n",
        "arrA = np.array([[1,2],[3,4]])\n",
        "arrB = np.array([[5,6],[7,8]])\n",
        "arr_mult = arrA * arrB\n",
        "print(\"Element-wise multiplication:\\n\", arr_mult)\n",
        "\n",
        "# ---------------------------\n",
        "# 4️⃣ Indexing and Slicing\n",
        "# ---------------------------\n",
        "arr5x5 = np.arange(1,26).reshape(5,5)\n",
        "print(\"5x5 array:\\n\", arr5x5)\n",
        "\n",
        "first_row = arr5x5[0,:]\n",
        "print(\"First row:\", first_row)\n",
        "\n",
        "last_col = arr5x5[:, -1]\n",
        "print(\"Last column:\", last_col)\n",
        "\n",
        "subarray = arr5x5[:3, :2]\n",
        "print(\"Subarray (first 3 rows, first 2 cols):\\n\", subarray)\n",
        "\n",
        "# ---------------------------\n",
        "# 5️⃣ Aggregation\n",
        "# ---------------------------\n",
        "rand10 = np.random.randint(10,101, size=10)\n",
        "print(\"Random array:\", rand10)\n",
        "\n",
        "max_val = np.max(rand10)\n",
        "min_val = np.min(rand10)\n",
        "mean_val = np.mean(rand10)\n",
        "std_val = np.std(rand10)\n",
        "\n",
        "print(\"Max:\", max_val, \"Min:\", min_val, \"Mean:\", mean_val, \"Std:\", std_val)\n",
        "\n",
        "# ---------------------------\n",
        "# 6️⃣ Reshaping\n",
        "# ---------------------------\n",
        "arr1d_12 = np.arange(1,13)\n",
        "matrix3x4 = arr1d_12.reshape(3,4)\n",
        "print(\"3x4 matrix:\\n\", matrix3x4)\n",
        "\n",
        "# ---------------------------\n",
        "# 7️⃣ Broadcasting\n",
        "# ---------------------------\n",
        "mat3x3 = np.ones((3,3))\n",
        "row_vec = np.array([1,2,3])\n",
        "broadcast_sum = mat3x3 + row_vec\n",
        "print(\"Broadcasted sum:\\n\", broadcast_sum)\n",
        "\n",
        "# ---------------------------\n",
        "# 8️⃣ Filtering\n",
        "# ---------------------------\n",
        "rand_array = np.random.randint(1,51, size=10)\n",
        "div5_elements = rand_array[rand_array % 5 == 0]\n",
        "print(\"Random array:\", rand_array)\n",
        "print(\"Divisible by 5:\", div5_elements)\n",
        "\n",
        "# ---------------------------\n",
        "# 9️⃣ Matrix Multiplication\n",
        "# ---------------------------\n",
        "matX = np.array([[1,2],[3,4]])\n",
        "matY = np.array([[5,6],[7,8]])\n",
        "mat_dot = np.dot(matX, matY)\n",
        "print(\"Matrix multiplication:\\n\", mat_dot)\n",
        "\n",
        "# ---------------------------\n",
        "# 🔟 Advanced Indexing (fancy indexing)\n",
        "# ---------------------------\n",
        "arr4x4 = np.arange(1,17).reshape(4,4)\n",
        "diagonal_elements = arr4x4[np.arange(4), np.arange(4)]\n",
        "print(\"4x4 array:\\n\", arr4x4)\n",
        "print(\"Diagonal elements:\", diagonal_elements)\n"
      ],
      "metadata": {
        "colab": {
          "base_uri": "https://localhost:8080/"
        },
        "id": "weJpv4kT8nIG",
        "outputId": "89bb1c1e-8ced-42f0-f7c1-6edf7a13a622"
      },
      "execution_count": 18,
      "outputs": [
        {
          "output_type": "stream",
          "name": "stdout",
          "text": [
            "1D array: [10 11 12 13 14 15 16 17 18 19 20 21 22 23 24 25 26 27 28 29 30 31 32 33\n",
            " 34 35 36 37 38 39 40 41 42 43 44 45 46 47 48 49 50]\n",
            "3x3 random array:\n",
            " [[0.19292454 0.4604947  0.00339445]\n",
            " [0.99922424 0.81734262 0.46794848]\n",
            " [0.96964833 0.57606037 0.93225328]]\n",
            "Shape: (3, 3)\n",
            "Size: 9\n",
            "Data type: float64\n",
            "1D array +5: [15 16 17 18 19 20 21 22 23 24 25 26 27 28 29 30 31 32 33 34 35 36 37 38\n",
            " 39 40 41 42 43 44 45 46 47 48 49 50 51 52 53 54 55]\n",
            "Element-wise multiplication:\n",
            " [[ 5 12]\n",
            " [21 32]]\n",
            "5x5 array:\n",
            " [[ 1  2  3  4  5]\n",
            " [ 6  7  8  9 10]\n",
            " [11 12 13 14 15]\n",
            " [16 17 18 19 20]\n",
            " [21 22 23 24 25]]\n",
            "First row: [1 2 3 4 5]\n",
            "Last column: [ 5 10 15 20 25]\n",
            "Subarray (first 3 rows, first 2 cols):\n",
            " [[ 1  2]\n",
            " [ 6  7]\n",
            " [11 12]]\n",
            "Random array: [27 85 88 12 56 48 76 43 83 83]\n",
            "Max: 88 Min: 12 Mean: 60.1 Std: 25.62206080704673\n",
            "3x4 matrix:\n",
            " [[ 1  2  3  4]\n",
            " [ 5  6  7  8]\n",
            " [ 9 10 11 12]]\n",
            "Broadcasted sum:\n",
            " [[2. 3. 4.]\n",
            " [2. 3. 4.]\n",
            " [2. 3. 4.]]\n",
            "Random array: [44 39 19 11 17 36 48  2 23 23]\n",
            "Divisible by 5: []\n",
            "Matrix multiplication:\n",
            " [[19 22]\n",
            " [43 50]]\n",
            "4x4 array:\n",
            " [[ 1  2  3  4]\n",
            " [ 5  6  7  8]\n",
            " [ 9 10 11 12]\n",
            " [13 14 15 16]]\n",
            "Diagonal elements: [ 1  6 11 16]\n"
          ]
        }
      ]
    }
  ]
}